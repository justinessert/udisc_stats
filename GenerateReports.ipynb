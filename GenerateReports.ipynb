{
 "cells": [
  {
   "cell_type": "code",
   "execution_count": 1,
   "id": "5fe580b8",
   "metadata": {},
   "outputs": [],
   "source": [
    "%load_ext autoreload\n",
    "%autoreload 2\n",
    "\n",
    "import pandas as pd\n",
    "import seaborn as sns\n",
    "import matplotlib.pyplot as plt\n",
    "\n",
    "from udisc_stats.preprocess import print_segments, preprocess\n",
    "from udisc_stats.report import generate_reports"
   ]
  },
  {
   "cell_type": "code",
   "execution_count": 2,
   "id": "529f0e8b",
   "metadata": {},
   "outputs": [
    {
     "name": "stdout",
     "output_type": "stream",
     "text": [
      "2020-11-05 22:22:00\n"
     ]
    }
   ],
   "source": [
    "orig_df = pd.read_csv(\"~/Downloads/Udisc Scorecards 2.csv\")\n",
    "\n",
    "df = preprocess(orig_df)"
   ]
  },
  {
   "cell_type": "code",
   "execution_count": 3,
   "id": "402efb05",
   "metadata": {},
   "outputs": [],
   "source": [
    "players = [\"Monkey\", \"Riley\", \"Bryan Der\"]\n",
    "courses = [\"Dunncroft - Castle Point Park\", \"Bryan Park\"]\n",
    "layouts = {\n",
    "    \"Dunncroft - Castle Point Park\": [\"Shorts then Longs\"],\n",
    "    \"Bryan Park\": [\"Yellows Tees\", \"Paver Tees\"],\n",
    "}"
   ]
  },
  {
   "cell_type": "code",
   "execution_count": null,
   "id": "836e2437",
   "metadata": {
    "scrolled": true
   },
   "outputs": [],
   "source": [
    "generate_reports(\n",
    "    df=df,\n",
    "    players=players,\n",
    "    courses=courses,\n",
    "    layouts=layouts,\n",
    "    directory=\"reports\"\n",
    ")"
   ]
  },
  {
   "cell_type": "code",
   "execution_count": null,
   "id": "a9bcda9a",
   "metadata": {},
   "outputs": [],
   "source": []
  }
 ],
 "metadata": {
  "kernelspec": {
   "display_name": "Python 3 (ipykernel)",
   "language": "python",
   "name": "python3"
  },
  "language_info": {
   "codemirror_mode": {
    "name": "ipython",
    "version": 3
   },
   "file_extension": ".py",
   "mimetype": "text/x-python",
   "name": "python",
   "nbconvert_exporter": "python",
   "pygments_lexer": "ipython3",
   "version": "3.9.16"
  }
 },
 "nbformat": 4,
 "nbformat_minor": 5
}
